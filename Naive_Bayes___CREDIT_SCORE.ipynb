{
  "cells": [
    {
      "cell_type": "markdown",
      "metadata": {
        "id": "lvRbB9YTnI2b"
      },
      "source": [
        "**Credit Score - Naive Bayes**\n"
      ]
    },
    {
      "cell_type": "code",
      "execution_count": null,
      "metadata": {
        "id": "M90JWP5pmrea"
      },
      "outputs": [],
      "source": [
        "import pandas as pd\n",
        "import numpy as np\n",
        "import seaborn as sns\n",
        "import matplotlib.pyplot as plt\n",
        "from sklearn.metrics import confusion_matrix\n",
        "from sklearn.naive_bayes import GaussianNB\n",
        "from sklearn.metrics import accuracy_score\n",
        "from sklearn.metrics import recall_score"
      ]
    },
    {
      "cell_type": "markdown",
      "metadata": {
        "id": "EbxeVNuirXtI"
      },
      "source": [
        "# 1) Training (X and y) and testing (X and y) datasets."
      ]
    },
    {
      "cell_type": "code",
      "source": [
        "import pandas as pd\n",
        "\n",
        "df = pd.read_csv('CREDIT_SCORE_AFSMOTE.csv')\n",
        "\n",
        "print(df)"
      ],
      "metadata": {
        "colab": {
          "base_uri": "https://localhost:8080/"
        },
        "id": "x7VGlJaFC7sj",
        "outputId": "8a9b361c-fa82-4f6e-88d8-06f0a61e2725"
      },
      "execution_count": null,
      "outputs": [
        {
          "output_type": "stream",
          "name": "stdout",
          "text": [
            "      Age  Gender  Income  Education  Marital Status  Number of Children  \\\n",
            "0    25.0       0   50000          1               1                   0   \n",
            "1    30.0       1  100000          4               0                   2   \n",
            "2    35.0       0   75000          2               0                   1   \n",
            "3    40.0       1  125000          3               1                   0   \n",
            "4    45.0       0  100000          1               0                   0   \n",
            "..    ...     ...     ...        ...             ...                 ...   \n",
            "159  29.0       0   27500          3               1                   0   \n",
            "160  34.0       1   47500          0               1                   0   \n",
            "161  39.0       0   62500          1               0                   2   \n",
            "162  44.0       1   87500          4               1                   0   \n",
            "163  49.0       0   77500          2               0                   1   \n",
            "\n",
            "     Home Ownership  Credit Score  \n",
            "0                 1           2.0  \n",
            "1                 0           2.0  \n",
            "2                 0           2.0  \n",
            "3                 0           2.0  \n",
            "4                 0           2.0  \n",
            "..              ...           ...  \n",
            "159               1           0.0  \n",
            "160               1           1.0  \n",
            "161               0           2.0  \n",
            "162               0           2.0  \n",
            "163               0           2.0  \n",
            "\n",
            "[164 rows x 8 columns]\n"
          ]
        }
      ]
    },
    {
      "cell_type": "code",
      "execution_count": null,
      "metadata": {
        "id": "sKOiJU6WrsA_"
      },
      "outputs": [],
      "source": [
        "X = df.drop('Credit Score', axis=1) # Remove the 'target' column from the independent variables\n",
        "y = df['Credit Score'] # Define the dependent variable (label)"
      ]
    },
    {
      "cell_type": "code",
      "source": [
        "from sklearn.model_selection import train_test_split\n",
        "\n",
        "X_train, X_test, y_train, y_test = train_test_split(X, y, test_size=0.5, random_state=42)"
      ],
      "metadata": {
        "id": "r7edGJZLFjF_"
      },
      "execution_count": null,
      "outputs": []
    },
    {
      "cell_type": "code",
      "source": [
        "X_train\n",
        "df.shape"
      ],
      "metadata": {
        "colab": {
          "base_uri": "https://localhost:8080/"
        },
        "id": "8uoNHF-2GKnU",
        "outputId": "5f7c11e3-6a47-42d8-f6c6-caad2a562743"
      },
      "execution_count": null,
      "outputs": [
        {
          "output_type": "execute_result",
          "data": {
            "text/plain": [
              "(164, 8)"
            ]
          },
          "metadata": {},
          "execution_count": 47
        }
      ]
    },
    {
      "cell_type": "code",
      "source": [
        "X_test\n",
        "df.shape"
      ],
      "metadata": {
        "colab": {
          "base_uri": "https://localhost:8080/"
        },
        "id": "d9BMjKWbGNhM",
        "outputId": "f14351b8-c539-4684-d810-c05135ce1714"
      },
      "execution_count": null,
      "outputs": [
        {
          "output_type": "execute_result",
          "data": {
            "text/plain": [
              "(164, 8)"
            ]
          },
          "metadata": {},
          "execution_count": 48
        }
      ]
    },
    {
      "cell_type": "code",
      "source": [
        "y_train\n",
        "df.shape"
      ],
      "metadata": {
        "colab": {
          "base_uri": "https://localhost:8080/"
        },
        "id": "bHLSfkl4GRnT",
        "outputId": "a2a97986-4294-496d-de9d-47d8c30e8991"
      },
      "execution_count": null,
      "outputs": [
        {
          "output_type": "execute_result",
          "data": {
            "text/plain": [
              "(164, 8)"
            ]
          },
          "metadata": {},
          "execution_count": 49
        }
      ]
    },
    {
      "cell_type": "code",
      "source": [
        "y_test\n"
      ],
      "metadata": {
        "colab": {
          "base_uri": "https://localhost:8080/",
          "height": 458
        },
        "id": "LowRfNQKGS2L",
        "outputId": "125044ab-b5e5-4d8d-8317-57a109fb25e3"
      },
      "execution_count": null,
      "outputs": [
        {
          "output_type": "execute_result",
          "data": {
            "text/plain": [
              "135    1.0\n",
              "115    2.0\n",
              "131    1.0\n",
              "55     2.0\n",
              "95     2.0\n",
              "      ... \n",
              "114    2.0\n",
              "25     1.0\n",
              "23     2.0\n",
              "119    2.0\n",
              "81     2.0\n",
              "Name: Credit Score, Length: 82, dtype: float64"
            ],
            "text/html": [
              "<div>\n",
              "<style scoped>\n",
              "    .dataframe tbody tr th:only-of-type {\n",
              "        vertical-align: middle;\n",
              "    }\n",
              "\n",
              "    .dataframe tbody tr th {\n",
              "        vertical-align: top;\n",
              "    }\n",
              "\n",
              "    .dataframe thead th {\n",
              "        text-align: right;\n",
              "    }\n",
              "</style>\n",
              "<table border=\"1\" class=\"dataframe\">\n",
              "  <thead>\n",
              "    <tr style=\"text-align: right;\">\n",
              "      <th></th>\n",
              "      <th>Credit Score</th>\n",
              "    </tr>\n",
              "  </thead>\n",
              "  <tbody>\n",
              "    <tr>\n",
              "      <th>135</th>\n",
              "      <td>1.0</td>\n",
              "    </tr>\n",
              "    <tr>\n",
              "      <th>115</th>\n",
              "      <td>2.0</td>\n",
              "    </tr>\n",
              "    <tr>\n",
              "      <th>131</th>\n",
              "      <td>1.0</td>\n",
              "    </tr>\n",
              "    <tr>\n",
              "      <th>55</th>\n",
              "      <td>2.0</td>\n",
              "    </tr>\n",
              "    <tr>\n",
              "      <th>95</th>\n",
              "      <td>2.0</td>\n",
              "    </tr>\n",
              "    <tr>\n",
              "      <th>...</th>\n",
              "      <td>...</td>\n",
              "    </tr>\n",
              "    <tr>\n",
              "      <th>114</th>\n",
              "      <td>2.0</td>\n",
              "    </tr>\n",
              "    <tr>\n",
              "      <th>25</th>\n",
              "      <td>1.0</td>\n",
              "    </tr>\n",
              "    <tr>\n",
              "      <th>23</th>\n",
              "      <td>2.0</td>\n",
              "    </tr>\n",
              "    <tr>\n",
              "      <th>119</th>\n",
              "      <td>2.0</td>\n",
              "    </tr>\n",
              "    <tr>\n",
              "      <th>81</th>\n",
              "      <td>2.0</td>\n",
              "    </tr>\n",
              "  </tbody>\n",
              "</table>\n",
              "<p>82 rows × 1 columns</p>\n",
              "</div><br><label><b>dtype:</b> float64</label>"
            ]
          },
          "metadata": {},
          "execution_count": 58
        }
      ]
    },
    {
      "cell_type": "code",
      "source": [
        "# Count the number of examples of each class in y_train\n",
        "train_balance = y_train.value_counts()\n",
        "print(\"Balanceamento em y_train:\")\n",
        "print(train_balance)\n",
        "\n",
        "# Count the number of examples of each class in y_test\n",
        "test_balance = y_test.value_counts()\n",
        "print(\"\\nBalanceamento em y_test:\")\n",
        "print(test_balance)"
      ],
      "metadata": {
        "colab": {
          "base_uri": "https://localhost:8080/"
        },
        "id": "TG7-rPAVGZiH",
        "outputId": "055c5ba9-d0fe-4611-f088-ac934b5aca43"
      },
      "execution_count": null,
      "outputs": [
        {
          "output_type": "stream",
          "name": "stdout",
          "text": [
            "Balanceamento em y_train:\n",
            "Credit Score\n",
            "2.0    57\n",
            "1.0    19\n",
            "0.0     6\n",
            "Name: count, dtype: int64\n",
            "\n",
            "Balanceamento em y_test:\n",
            "Credit Score\n",
            "2.0    56\n",
            "1.0    17\n",
            "0.0     9\n",
            "Name: count, dtype: int64\n"
          ]
        }
      ]
    },
    {
      "cell_type": "markdown",
      "source": [
        "Both in the training and testing datasets, the Score variables [0,1,2] are not balanced.\n"
      ],
      "metadata": {
        "id": "afFk0klDOKf9"
      }
    },
    {
      "cell_type": "markdown",
      "metadata": {
        "id": "1NWQ6Wu1s3UF"
      },
      "source": [
        "# 2) Naive Bayes algorithm to the training data."
      ]
    },
    {
      "cell_type": "code",
      "execution_count": null,
      "metadata": {
        "id": "H0hjx3BztAOk"
      },
      "outputs": [],
      "source": [
        "from sklearn.naive_bayes import GaussianNB\n",
        "from sklearn.metrics import accuracy_score\n",
        "from sklearn.metrics import recall_score"
      ]
    },
    {
      "cell_type": "code",
      "source": [
        "# Create an instance of the Gaussian Naive Bayes classifier\n",
        "naive_churn = GaussianNB()\n",
        "\n",
        "# Train the classifier using the training data\n",
        "naive_churn.fit(X_train, y_train)"
      ],
      "metadata": {
        "colab": {
          "base_uri": "https://localhost:8080/",
          "height": 80
        },
        "id": "TMgUP2ziOpza",
        "outputId": "f305f17a-add6-4c27-f7a7-42ad7d068da6"
      },
      "execution_count": null,
      "outputs": [
        {
          "output_type": "execute_result",
          "data": {
            "text/plain": [
              "GaussianNB()"
            ],
            "text/html": [
              "<style>#sk-container-id-1 {\n",
              "  /* Definition of color scheme common for light and dark mode */\n",
              "  --sklearn-color-text: #000;\n",
              "  --sklearn-color-text-muted: #666;\n",
              "  --sklearn-color-line: gray;\n",
              "  /* Definition of color scheme for unfitted estimators */\n",
              "  --sklearn-color-unfitted-level-0: #fff5e6;\n",
              "  --sklearn-color-unfitted-level-1: #f6e4d2;\n",
              "  --sklearn-color-unfitted-level-2: #ffe0b3;\n",
              "  --sklearn-color-unfitted-level-3: chocolate;\n",
              "  /* Definition of color scheme for fitted estimators */\n",
              "  --sklearn-color-fitted-level-0: #f0f8ff;\n",
              "  --sklearn-color-fitted-level-1: #d4ebff;\n",
              "  --sklearn-color-fitted-level-2: #b3dbfd;\n",
              "  --sklearn-color-fitted-level-3: cornflowerblue;\n",
              "\n",
              "  /* Specific color for light theme */\n",
              "  --sklearn-color-text-on-default-background: var(--sg-text-color, var(--theme-code-foreground, var(--jp-content-font-color1, black)));\n",
              "  --sklearn-color-background: var(--sg-background-color, var(--theme-background, var(--jp-layout-color0, white)));\n",
              "  --sklearn-color-border-box: var(--sg-text-color, var(--theme-code-foreground, var(--jp-content-font-color1, black)));\n",
              "  --sklearn-color-icon: #696969;\n",
              "\n",
              "  @media (prefers-color-scheme: dark) {\n",
              "    /* Redefinition of color scheme for dark theme */\n",
              "    --sklearn-color-text-on-default-background: var(--sg-text-color, var(--theme-code-foreground, var(--jp-content-font-color1, white)));\n",
              "    --sklearn-color-background: var(--sg-background-color, var(--theme-background, var(--jp-layout-color0, #111)));\n",
              "    --sklearn-color-border-box: var(--sg-text-color, var(--theme-code-foreground, var(--jp-content-font-color1, white)));\n",
              "    --sklearn-color-icon: #878787;\n",
              "  }\n",
              "}\n",
              "\n",
              "#sk-container-id-1 {\n",
              "  color: var(--sklearn-color-text);\n",
              "}\n",
              "\n",
              "#sk-container-id-1 pre {\n",
              "  padding: 0;\n",
              "}\n",
              "\n",
              "#sk-container-id-1 input.sk-hidden--visually {\n",
              "  border: 0;\n",
              "  clip: rect(1px 1px 1px 1px);\n",
              "  clip: rect(1px, 1px, 1px, 1px);\n",
              "  height: 1px;\n",
              "  margin: -1px;\n",
              "  overflow: hidden;\n",
              "  padding: 0;\n",
              "  position: absolute;\n",
              "  width: 1px;\n",
              "}\n",
              "\n",
              "#sk-container-id-1 div.sk-dashed-wrapped {\n",
              "  border: 1px dashed var(--sklearn-color-line);\n",
              "  margin: 0 0.4em 0.5em 0.4em;\n",
              "  box-sizing: border-box;\n",
              "  padding-bottom: 0.4em;\n",
              "  background-color: var(--sklearn-color-background);\n",
              "}\n",
              "\n",
              "#sk-container-id-1 div.sk-container {\n",
              "  /* jupyter's `normalize.less` sets `[hidden] { display: none; }`\n",
              "     but bootstrap.min.css set `[hidden] { display: none !important; }`\n",
              "     so we also need the `!important` here to be able to override the\n",
              "     default hidden behavior on the sphinx rendered scikit-learn.org.\n",
              "     See: https://github.com/scikit-learn/scikit-learn/issues/21755 */\n",
              "  display: inline-block !important;\n",
              "  position: relative;\n",
              "}\n",
              "\n",
              "#sk-container-id-1 div.sk-text-repr-fallback {\n",
              "  display: none;\n",
              "}\n",
              "\n",
              "div.sk-parallel-item,\n",
              "div.sk-serial,\n",
              "div.sk-item {\n",
              "  /* draw centered vertical line to link estimators */\n",
              "  background-image: linear-gradient(var(--sklearn-color-text-on-default-background), var(--sklearn-color-text-on-default-background));\n",
              "  background-size: 2px 100%;\n",
              "  background-repeat: no-repeat;\n",
              "  background-position: center center;\n",
              "}\n",
              "\n",
              "/* Parallel-specific style estimator block */\n",
              "\n",
              "#sk-container-id-1 div.sk-parallel-item::after {\n",
              "  content: \"\";\n",
              "  width: 100%;\n",
              "  border-bottom: 2px solid var(--sklearn-color-text-on-default-background);\n",
              "  flex-grow: 1;\n",
              "}\n",
              "\n",
              "#sk-container-id-1 div.sk-parallel {\n",
              "  display: flex;\n",
              "  align-items: stretch;\n",
              "  justify-content: center;\n",
              "  background-color: var(--sklearn-color-background);\n",
              "  position: relative;\n",
              "}\n",
              "\n",
              "#sk-container-id-1 div.sk-parallel-item {\n",
              "  display: flex;\n",
              "  flex-direction: column;\n",
              "}\n",
              "\n",
              "#sk-container-id-1 div.sk-parallel-item:first-child::after {\n",
              "  align-self: flex-end;\n",
              "  width: 50%;\n",
              "}\n",
              "\n",
              "#sk-container-id-1 div.sk-parallel-item:last-child::after {\n",
              "  align-self: flex-start;\n",
              "  width: 50%;\n",
              "}\n",
              "\n",
              "#sk-container-id-1 div.sk-parallel-item:only-child::after {\n",
              "  width: 0;\n",
              "}\n",
              "\n",
              "/* Serial-specific style estimator block */\n",
              "\n",
              "#sk-container-id-1 div.sk-serial {\n",
              "  display: flex;\n",
              "  flex-direction: column;\n",
              "  align-items: center;\n",
              "  background-color: var(--sklearn-color-background);\n",
              "  padding-right: 1em;\n",
              "  padding-left: 1em;\n",
              "}\n",
              "\n",
              "\n",
              "/* Toggleable style: style used for estimator/Pipeline/ColumnTransformer box that is\n",
              "clickable and can be expanded/collapsed.\n",
              "- Pipeline and ColumnTransformer use this feature and define the default style\n",
              "- Estimators will overwrite some part of the style using the `sk-estimator` class\n",
              "*/\n",
              "\n",
              "/* Pipeline and ColumnTransformer style (default) */\n",
              "\n",
              "#sk-container-id-1 div.sk-toggleable {\n",
              "  /* Default theme specific background. It is overwritten whether we have a\n",
              "  specific estimator or a Pipeline/ColumnTransformer */\n",
              "  background-color: var(--sklearn-color-background);\n",
              "}\n",
              "\n",
              "/* Toggleable label */\n",
              "#sk-container-id-1 label.sk-toggleable__label {\n",
              "  cursor: pointer;\n",
              "  display: flex;\n",
              "  width: 100%;\n",
              "  margin-bottom: 0;\n",
              "  padding: 0.5em;\n",
              "  box-sizing: border-box;\n",
              "  text-align: center;\n",
              "  align-items: start;\n",
              "  justify-content: space-between;\n",
              "  gap: 0.5em;\n",
              "}\n",
              "\n",
              "#sk-container-id-1 label.sk-toggleable__label .caption {\n",
              "  font-size: 0.6rem;\n",
              "  font-weight: lighter;\n",
              "  color: var(--sklearn-color-text-muted);\n",
              "}\n",
              "\n",
              "#sk-container-id-1 label.sk-toggleable__label-arrow:before {\n",
              "  /* Arrow on the left of the label */\n",
              "  content: \"▸\";\n",
              "  float: left;\n",
              "  margin-right: 0.25em;\n",
              "  color: var(--sklearn-color-icon);\n",
              "}\n",
              "\n",
              "#sk-container-id-1 label.sk-toggleable__label-arrow:hover:before {\n",
              "  color: var(--sklearn-color-text);\n",
              "}\n",
              "\n",
              "/* Toggleable content - dropdown */\n",
              "\n",
              "#sk-container-id-1 div.sk-toggleable__content {\n",
              "  max-height: 0;\n",
              "  max-width: 0;\n",
              "  overflow: hidden;\n",
              "  text-align: left;\n",
              "  /* unfitted */\n",
              "  background-color: var(--sklearn-color-unfitted-level-0);\n",
              "}\n",
              "\n",
              "#sk-container-id-1 div.sk-toggleable__content.fitted {\n",
              "  /* fitted */\n",
              "  background-color: var(--sklearn-color-fitted-level-0);\n",
              "}\n",
              "\n",
              "#sk-container-id-1 div.sk-toggleable__content pre {\n",
              "  margin: 0.2em;\n",
              "  border-radius: 0.25em;\n",
              "  color: var(--sklearn-color-text);\n",
              "  /* unfitted */\n",
              "  background-color: var(--sklearn-color-unfitted-level-0);\n",
              "}\n",
              "\n",
              "#sk-container-id-1 div.sk-toggleable__content.fitted pre {\n",
              "  /* unfitted */\n",
              "  background-color: var(--sklearn-color-fitted-level-0);\n",
              "}\n",
              "\n",
              "#sk-container-id-1 input.sk-toggleable__control:checked~div.sk-toggleable__content {\n",
              "  /* Expand drop-down */\n",
              "  max-height: 200px;\n",
              "  max-width: 100%;\n",
              "  overflow: auto;\n",
              "}\n",
              "\n",
              "#sk-container-id-1 input.sk-toggleable__control:checked~label.sk-toggleable__label-arrow:before {\n",
              "  content: \"▾\";\n",
              "}\n",
              "\n",
              "/* Pipeline/ColumnTransformer-specific style */\n",
              "\n",
              "#sk-container-id-1 div.sk-label input.sk-toggleable__control:checked~label.sk-toggleable__label {\n",
              "  color: var(--sklearn-color-text);\n",
              "  background-color: var(--sklearn-color-unfitted-level-2);\n",
              "}\n",
              "\n",
              "#sk-container-id-1 div.sk-label.fitted input.sk-toggleable__control:checked~label.sk-toggleable__label {\n",
              "  background-color: var(--sklearn-color-fitted-level-2);\n",
              "}\n",
              "\n",
              "/* Estimator-specific style */\n",
              "\n",
              "/* Colorize estimator box */\n",
              "#sk-container-id-1 div.sk-estimator input.sk-toggleable__control:checked~label.sk-toggleable__label {\n",
              "  /* unfitted */\n",
              "  background-color: var(--sklearn-color-unfitted-level-2);\n",
              "}\n",
              "\n",
              "#sk-container-id-1 div.sk-estimator.fitted input.sk-toggleable__control:checked~label.sk-toggleable__label {\n",
              "  /* fitted */\n",
              "  background-color: var(--sklearn-color-fitted-level-2);\n",
              "}\n",
              "\n",
              "#sk-container-id-1 div.sk-label label.sk-toggleable__label,\n",
              "#sk-container-id-1 div.sk-label label {\n",
              "  /* The background is the default theme color */\n",
              "  color: var(--sklearn-color-text-on-default-background);\n",
              "}\n",
              "\n",
              "/* On hover, darken the color of the background */\n",
              "#sk-container-id-1 div.sk-label:hover label.sk-toggleable__label {\n",
              "  color: var(--sklearn-color-text);\n",
              "  background-color: var(--sklearn-color-unfitted-level-2);\n",
              "}\n",
              "\n",
              "/* Label box, darken color on hover, fitted */\n",
              "#sk-container-id-1 div.sk-label.fitted:hover label.sk-toggleable__label.fitted {\n",
              "  color: var(--sklearn-color-text);\n",
              "  background-color: var(--sklearn-color-fitted-level-2);\n",
              "}\n",
              "\n",
              "/* Estimator label */\n",
              "\n",
              "#sk-container-id-1 div.sk-label label {\n",
              "  font-family: monospace;\n",
              "  font-weight: bold;\n",
              "  display: inline-block;\n",
              "  line-height: 1.2em;\n",
              "}\n",
              "\n",
              "#sk-container-id-1 div.sk-label-container {\n",
              "  text-align: center;\n",
              "}\n",
              "\n",
              "/* Estimator-specific */\n",
              "#sk-container-id-1 div.sk-estimator {\n",
              "  font-family: monospace;\n",
              "  border: 1px dotted var(--sklearn-color-border-box);\n",
              "  border-radius: 0.25em;\n",
              "  box-sizing: border-box;\n",
              "  margin-bottom: 0.5em;\n",
              "  /* unfitted */\n",
              "  background-color: var(--sklearn-color-unfitted-level-0);\n",
              "}\n",
              "\n",
              "#sk-container-id-1 div.sk-estimator.fitted {\n",
              "  /* fitted */\n",
              "  background-color: var(--sklearn-color-fitted-level-0);\n",
              "}\n",
              "\n",
              "/* on hover */\n",
              "#sk-container-id-1 div.sk-estimator:hover {\n",
              "  /* unfitted */\n",
              "  background-color: var(--sklearn-color-unfitted-level-2);\n",
              "}\n",
              "\n",
              "#sk-container-id-1 div.sk-estimator.fitted:hover {\n",
              "  /* fitted */\n",
              "  background-color: var(--sklearn-color-fitted-level-2);\n",
              "}\n",
              "\n",
              "/* Specification for estimator info (e.g. \"i\" and \"?\") */\n",
              "\n",
              "/* Common style for \"i\" and \"?\" */\n",
              "\n",
              ".sk-estimator-doc-link,\n",
              "a:link.sk-estimator-doc-link,\n",
              "a:visited.sk-estimator-doc-link {\n",
              "  float: right;\n",
              "  font-size: smaller;\n",
              "  line-height: 1em;\n",
              "  font-family: monospace;\n",
              "  background-color: var(--sklearn-color-background);\n",
              "  border-radius: 1em;\n",
              "  height: 1em;\n",
              "  width: 1em;\n",
              "  text-decoration: none !important;\n",
              "  margin-left: 0.5em;\n",
              "  text-align: center;\n",
              "  /* unfitted */\n",
              "  border: var(--sklearn-color-unfitted-level-1) 1pt solid;\n",
              "  color: var(--sklearn-color-unfitted-level-1);\n",
              "}\n",
              "\n",
              ".sk-estimator-doc-link.fitted,\n",
              "a:link.sk-estimator-doc-link.fitted,\n",
              "a:visited.sk-estimator-doc-link.fitted {\n",
              "  /* fitted */\n",
              "  border: var(--sklearn-color-fitted-level-1) 1pt solid;\n",
              "  color: var(--sklearn-color-fitted-level-1);\n",
              "}\n",
              "\n",
              "/* On hover */\n",
              "div.sk-estimator:hover .sk-estimator-doc-link:hover,\n",
              ".sk-estimator-doc-link:hover,\n",
              "div.sk-label-container:hover .sk-estimator-doc-link:hover,\n",
              ".sk-estimator-doc-link:hover {\n",
              "  /* unfitted */\n",
              "  background-color: var(--sklearn-color-unfitted-level-3);\n",
              "  color: var(--sklearn-color-background);\n",
              "  text-decoration: none;\n",
              "}\n",
              "\n",
              "div.sk-estimator.fitted:hover .sk-estimator-doc-link.fitted:hover,\n",
              ".sk-estimator-doc-link.fitted:hover,\n",
              "div.sk-label-container:hover .sk-estimator-doc-link.fitted:hover,\n",
              ".sk-estimator-doc-link.fitted:hover {\n",
              "  /* fitted */\n",
              "  background-color: var(--sklearn-color-fitted-level-3);\n",
              "  color: var(--sklearn-color-background);\n",
              "  text-decoration: none;\n",
              "}\n",
              "\n",
              "/* Span, style for the box shown on hovering the info icon */\n",
              ".sk-estimator-doc-link span {\n",
              "  display: none;\n",
              "  z-index: 9999;\n",
              "  position: relative;\n",
              "  font-weight: normal;\n",
              "  right: .2ex;\n",
              "  padding: .5ex;\n",
              "  margin: .5ex;\n",
              "  width: min-content;\n",
              "  min-width: 20ex;\n",
              "  max-width: 50ex;\n",
              "  color: var(--sklearn-color-text);\n",
              "  box-shadow: 2pt 2pt 4pt #999;\n",
              "  /* unfitted */\n",
              "  background: var(--sklearn-color-unfitted-level-0);\n",
              "  border: .5pt solid var(--sklearn-color-unfitted-level-3);\n",
              "}\n",
              "\n",
              ".sk-estimator-doc-link.fitted span {\n",
              "  /* fitted */\n",
              "  background: var(--sklearn-color-fitted-level-0);\n",
              "  border: var(--sklearn-color-fitted-level-3);\n",
              "}\n",
              "\n",
              ".sk-estimator-doc-link:hover span {\n",
              "  display: block;\n",
              "}\n",
              "\n",
              "/* \"?\"-specific style due to the `<a>` HTML tag */\n",
              "\n",
              "#sk-container-id-1 a.estimator_doc_link {\n",
              "  float: right;\n",
              "  font-size: 1rem;\n",
              "  line-height: 1em;\n",
              "  font-family: monospace;\n",
              "  background-color: var(--sklearn-color-background);\n",
              "  border-radius: 1rem;\n",
              "  height: 1rem;\n",
              "  width: 1rem;\n",
              "  text-decoration: none;\n",
              "  /* unfitted */\n",
              "  color: var(--sklearn-color-unfitted-level-1);\n",
              "  border: var(--sklearn-color-unfitted-level-1) 1pt solid;\n",
              "}\n",
              "\n",
              "#sk-container-id-1 a.estimator_doc_link.fitted {\n",
              "  /* fitted */\n",
              "  border: var(--sklearn-color-fitted-level-1) 1pt solid;\n",
              "  color: var(--sklearn-color-fitted-level-1);\n",
              "}\n",
              "\n",
              "/* On hover */\n",
              "#sk-container-id-1 a.estimator_doc_link:hover {\n",
              "  /* unfitted */\n",
              "  background-color: var(--sklearn-color-unfitted-level-3);\n",
              "  color: var(--sklearn-color-background);\n",
              "  text-decoration: none;\n",
              "}\n",
              "\n",
              "#sk-container-id-1 a.estimator_doc_link.fitted:hover {\n",
              "  /* fitted */\n",
              "  background-color: var(--sklearn-color-fitted-level-3);\n",
              "}\n",
              "</style><div id=\"sk-container-id-1\" class=\"sk-top-container\"><div class=\"sk-text-repr-fallback\"><pre>GaussianNB()</pre><b>In a Jupyter environment, please rerun this cell to show the HTML representation or trust the notebook. <br />On GitHub, the HTML representation is unable to render, please try loading this page with nbviewer.org.</b></div><div class=\"sk-container\" hidden><div class=\"sk-item\"><div class=\"sk-estimator fitted sk-toggleable\"><input class=\"sk-toggleable__control sk-hidden--visually\" id=\"sk-estimator-id-1\" type=\"checkbox\" checked><label for=\"sk-estimator-id-1\" class=\"sk-toggleable__label fitted sk-toggleable__label-arrow\"><div><div>GaussianNB</div></div><div><a class=\"sk-estimator-doc-link fitted\" rel=\"noreferrer\" target=\"_blank\" href=\"https://scikit-learn.org/1.6/modules/generated/sklearn.naive_bayes.GaussianNB.html\">?<span>Documentation for GaussianNB</span></a><span class=\"sk-estimator-doc-link fitted\">i<span>Fitted</span></span></div></label><div class=\"sk-toggleable__content fitted\"><pre>GaussianNB()</pre></div> </div></div></div></div>"
            ]
          },
          "metadata": {},
          "execution_count": 56
        }
      ]
    },
    {
      "cell_type": "markdown",
      "metadata": {
        "id": "7m7zKlOnt1--"
      },
      "source": [
        "# 3) Report the accuracy and recall, and plot the confusion matrix. Interpreting the metrics."
      ]
    },
    {
      "cell_type": "code",
      "source": [
        "from sklearn.naive_bayes import MultinomialNB\n",
        "\n",
        "model = MultinomialNB(alpha=1)  # Correção de Laplace aplicada\n",
        "model.fit(X_train, y_train)\n",
        "\n",
        "# Fazer previsões para os dados de treino\n",
        "y_pred_train = naive_churn.predict(X_train)\n",
        "\n",
        "# Calcular a acurácia\n",
        "accuracy = accuracy_score(y_train, y_pred_train)\n",
        "print(\"Acurácia:\", accuracy)"
      ],
      "metadata": {
        "colab": {
          "base_uri": "https://localhost:8080/"
        },
        "id": "imrw8AzKPS5M",
        "outputId": "ff82df5b-948e-437a-c19d-733dd2ac8795"
      },
      "execution_count": null,
      "outputs": [
        {
          "output_type": "stream",
          "name": "stdout",
          "text": [
            "Acurácia: 1.0\n"
          ]
        }
      ]
    },
    {
      "cell_type": "markdown",
      "source": [
        "Accuracy = 1\n",
        "\n",
        "SUSPICIOUS.\n",
        "\n",
        "🟢 POSITIVE SIDE:\n",
        "\n",
        "It could be considered a good outcome for a simple data analysis, showing that the model has effectively learned what was implemented during training.\n",
        "\n",
        "However, it may also be a clear example of:\n",
        "\n",
        "🔴 OVERFITTING:\n",
        "\n",
        "The model is memorizing the training data.\n",
        "\n",
        "The data are highly imbalanced (e.g., 95% class A, 5% class B) — very likely, considering how the data were split.\n",
        "\n",
        "![image.png](data:image/png;base64,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)"
      ],
      "metadata": {
        "id": "WjcAKrI1PiB6"
      }
    },
    {
      "cell_type": "code",
      "source": [
        "import plotly.figure_factory as ff\n",
        "\n",
        "# CONFUSION MATRIX\n",
        "conf_matrix = confusion_matrix(y_train, y_pred_train)\n",
        "\n",
        "# Defining class names\n",
        "class_names = [0, 1, 2]\n",
        "\n",
        "# Plotting the confusion matrix with Plotly\n",
        "fig = ff.create_annotated_heatmap(\n",
        "    z=conf_matrix,\n",
        "    x=class_names,\n",
        "    y=class_names,\n",
        "    colorscale='Blues',\n",
        "    showscale=True\n",
        ")\n",
        "fig.update_layout(\n",
        "    title='Confusion Matrix',\n",
        "    xaxis_title='Predicted Labels',\n",
        "    yaxis_title='True Labels',\n",
        "    font=dict(\n",
        "        family='Arial',\n",
        "        size=12,\n",
        "        color='black'\n",
        "    )\n",
        ")"
      ],
      "metadata": {
        "colab": {
          "base_uri": "https://localhost:8080/",
          "height": 542
        },
        "id": "DxN9Z5mGRneT",
        "outputId": "dafad3ab-893c-48cb-fb62-bd875b665e15"
      },
      "execution_count": null,
      "outputs": [
        {
          "output_type": "display_data",
          "data": {
            "text/html": [
              "<html>\n",
              "<head><meta charset=\"utf-8\" /></head>\n",
              "<body>\n",
              "    <div>            <script src=\"https://cdnjs.cloudflare.com/ajax/libs/mathjax/2.7.5/MathJax.js?config=TeX-AMS-MML_SVG\"></script><script type=\"text/javascript\">if (window.MathJax && window.MathJax.Hub && window.MathJax.Hub.Config) {window.MathJax.Hub.Config({SVG: {font: \"STIX-Web\"}});}</script>                <script type=\"text/javascript\">window.PlotlyConfig = {MathJaxConfig: 'local'};</script>\n",
              "        <script charset=\"utf-8\" src=\"https://cdn.plot.ly/plotly-2.35.2.min.js\"></script>                <div id=\"d59264be-428c-4630-8ba3-39bedc91dcc1\" class=\"plotly-graph-div\" style=\"height:525px; width:100%;\"></div>            <script type=\"text/javascript\">                                    window.PLOTLYENV=window.PLOTLYENV || {};                                    if (document.getElementById(\"d59264be-428c-4630-8ba3-39bedc91dcc1\")) {                    Plotly.newPlot(                        \"d59264be-428c-4630-8ba3-39bedc91dcc1\",                        [{\"colorscale\":[[0.0,\"rgb(247,251,255)\"],[0.125,\"rgb(222,235,247)\"],[0.25,\"rgb(198,219,239)\"],[0.375,\"rgb(158,202,225)\"],[0.5,\"rgb(107,174,214)\"],[0.625,\"rgb(66,146,198)\"],[0.75,\"rgb(33,113,181)\"],[0.875,\"rgb(8,81,156)\"],[1.0,\"rgb(8,48,107)\"]],\"reversescale\":false,\"showscale\":true,\"x\":[0,1,2],\"y\":[0,1,2],\"z\":[[6,0,0],[0,19,0],[0,0,57]],\"type\":\"heatmap\"}],                        {\"annotations\":[{\"font\":{\"color\":\"#000000\"},\"showarrow\":false,\"text\":\"6\",\"x\":0,\"xref\":\"x\",\"y\":0,\"yref\":\"y\"},{\"font\":{\"color\":\"#000000\"},\"showarrow\":false,\"text\":\"0\",\"x\":1,\"xref\":\"x\",\"y\":0,\"yref\":\"y\"},{\"font\":{\"color\":\"#000000\"},\"showarrow\":false,\"text\":\"0\",\"x\":2,\"xref\":\"x\",\"y\":0,\"yref\":\"y\"},{\"font\":{\"color\":\"#000000\"},\"showarrow\":false,\"text\":\"0\",\"x\":0,\"xref\":\"x\",\"y\":1,\"yref\":\"y\"},{\"font\":{\"color\":\"#000000\"},\"showarrow\":false,\"text\":\"19\",\"x\":1,\"xref\":\"x\",\"y\":1,\"yref\":\"y\"},{\"font\":{\"color\":\"#000000\"},\"showarrow\":false,\"text\":\"0\",\"x\":2,\"xref\":\"x\",\"y\":1,\"yref\":\"y\"},{\"font\":{\"color\":\"#000000\"},\"showarrow\":false,\"text\":\"0\",\"x\":0,\"xref\":\"x\",\"y\":2,\"yref\":\"y\"},{\"font\":{\"color\":\"#000000\"},\"showarrow\":false,\"text\":\"0\",\"x\":1,\"xref\":\"x\",\"y\":2,\"yref\":\"y\"},{\"font\":{\"color\":\"#FFFFFF\"},\"showarrow\":false,\"text\":\"57\",\"x\":2,\"xref\":\"x\",\"y\":2,\"yref\":\"y\"}],\"xaxis\":{\"dtick\":1,\"gridcolor\":\"rgb(0, 0, 0)\",\"side\":\"top\",\"ticks\":\"\",\"title\":{\"text\":\"Predicted labels\"}},\"yaxis\":{\"dtick\":1,\"ticks\":\"\",\"ticksuffix\":\"  \",\"title\":{\"text\":\"True labels\"}},\"template\":{\"data\":{\"histogram2dcontour\":[{\"type\":\"histogram2dcontour\",\"colorbar\":{\"outlinewidth\":0,\"ticks\":\"\"},\"colorscale\":[[0.0,\"#0d0887\"],[0.1111111111111111,\"#46039f\"],[0.2222222222222222,\"#7201a8\"],[0.3333333333333333,\"#9c179e\"],[0.4444444444444444,\"#bd3786\"],[0.5555555555555556,\"#d8576b\"],[0.6666666666666666,\"#ed7953\"],[0.7777777777777778,\"#fb9f3a\"],[0.8888888888888888,\"#fdca26\"],[1.0,\"#f0f921\"]]}],\"choropleth\":[{\"type\":\"choropleth\",\"colorbar\":{\"outlinewidth\":0,\"ticks\":\"\"}}],\"histogram2d\":[{\"type\":\"histogram2d\",\"colorbar\":{\"outlinewidth\":0,\"ticks\":\"\"},\"colorscale\":[[0.0,\"#0d0887\"],[0.1111111111111111,\"#46039f\"],[0.2222222222222222,\"#7201a8\"],[0.3333333333333333,\"#9c179e\"],[0.4444444444444444,\"#bd3786\"],[0.5555555555555556,\"#d8576b\"],[0.6666666666666666,\"#ed7953\"],[0.7777777777777778,\"#fb9f3a\"],[0.8888888888888888,\"#fdca26\"],[1.0,\"#f0f921\"]]}],\"heatmap\":[{\"type\":\"heatmap\",\"colorbar\":{\"outlinewidth\":0,\"ticks\":\"\"},\"colorscale\":[[0.0,\"#0d0887\"],[0.1111111111111111,\"#46039f\"],[0.2222222222222222,\"#7201a8\"],[0.3333333333333333,\"#9c179e\"],[0.4444444444444444,\"#bd3786\"],[0.5555555555555556,\"#d8576b\"],[0.6666666666666666,\"#ed7953\"],[0.7777777777777778,\"#fb9f3a\"],[0.8888888888888888,\"#fdca26\"],[1.0,\"#f0f921\"]]}],\"heatmapgl\":[{\"type\":\"heatmapgl\",\"colorbar\":{\"outlinewidth\":0,\"ticks\":\"\"},\"colorscale\":[[0.0,\"#0d0887\"],[0.1111111111111111,\"#46039f\"],[0.2222222222222222,\"#7201a8\"],[0.3333333333333333,\"#9c179e\"],[0.4444444444444444,\"#bd3786\"],[0.5555555555555556,\"#d8576b\"],[0.6666666666666666,\"#ed7953\"],[0.7777777777777778,\"#fb9f3a\"],[0.8888888888888888,\"#fdca26\"],[1.0,\"#f0f921\"]]}],\"contourcarpet\":[{\"type\":\"contourcarpet\",\"colorbar\":{\"outlinewidth\":0,\"ticks\":\"\"}}],\"contour\":[{\"type\":\"contour\",\"colorbar\":{\"outlinewidth\":0,\"ticks\":\"\"},\"colorscale\":[[0.0,\"#0d0887\"],[0.1111111111111111,\"#46039f\"],[0.2222222222222222,\"#7201a8\"],[0.3333333333333333,\"#9c179e\"],[0.4444444444444444,\"#bd3786\"],[0.5555555555555556,\"#d8576b\"],[0.6666666666666666,\"#ed7953\"],[0.7777777777777778,\"#fb9f3a\"],[0.8888888888888888,\"#fdca26\"],[1.0,\"#f0f921\"]]}],\"surface\":[{\"type\":\"surface\",\"colorbar\":{\"outlinewidth\":0,\"ticks\":\"\"},\"colorscale\":[[0.0,\"#0d0887\"],[0.1111111111111111,\"#46039f\"],[0.2222222222222222,\"#7201a8\"],[0.3333333333333333,\"#9c179e\"],[0.4444444444444444,\"#bd3786\"],[0.5555555555555556,\"#d8576b\"],[0.6666666666666666,\"#ed7953\"],[0.7777777777777778,\"#fb9f3a\"],[0.8888888888888888,\"#fdca26\"],[1.0,\"#f0f921\"]]}],\"mesh3d\":[{\"type\":\"mesh3d\",\"colorbar\":{\"outlinewidth\":0,\"ticks\":\"\"}}],\"scatter\":[{\"fillpattern\":{\"fillmode\":\"overlay\",\"size\":10,\"solidity\":0.2},\"type\":\"scatter\"}],\"parcoords\":[{\"type\":\"parcoords\",\"line\":{\"colorbar\":{\"outlinewidth\":0,\"ticks\":\"\"}}}],\"scatterpolargl\":[{\"type\":\"scatterpolargl\",\"marker\":{\"colorbar\":{\"outlinewidth\":0,\"ticks\":\"\"}}}],\"bar\":[{\"error_x\":{\"color\":\"#2a3f5f\"},\"error_y\":{\"color\":\"#2a3f5f\"},\"marker\":{\"line\":{\"color\":\"#E5ECF6\",\"width\":0.5},\"pattern\":{\"fillmode\":\"overlay\",\"size\":10,\"solidity\":0.2}},\"type\":\"bar\"}],\"scattergeo\":[{\"type\":\"scattergeo\",\"marker\":{\"colorbar\":{\"outlinewidth\":0,\"ticks\":\"\"}}}],\"scatterpolar\":[{\"type\":\"scatterpolar\",\"marker\":{\"colorbar\":{\"outlinewidth\":0,\"ticks\":\"\"}}}],\"histogram\":[{\"marker\":{\"pattern\":{\"fillmode\":\"overlay\",\"size\":10,\"solidity\":0.2}},\"type\":\"histogram\"}],\"scattergl\":[{\"type\":\"scattergl\",\"marker\":{\"colorbar\":{\"outlinewidth\":0,\"ticks\":\"\"}}}],\"scatter3d\":[{\"type\":\"scatter3d\",\"line\":{\"colorbar\":{\"outlinewidth\":0,\"ticks\":\"\"}},\"marker\":{\"colorbar\":{\"outlinewidth\":0,\"ticks\":\"\"}}}],\"scattermapbox\":[{\"type\":\"scattermapbox\",\"marker\":{\"colorbar\":{\"outlinewidth\":0,\"ticks\":\"\"}}}],\"scatterternary\":[{\"type\":\"scatterternary\",\"marker\":{\"colorbar\":{\"outlinewidth\":0,\"ticks\":\"\"}}}],\"scattercarpet\":[{\"type\":\"scattercarpet\",\"marker\":{\"colorbar\":{\"outlinewidth\":0,\"ticks\":\"\"}}}],\"carpet\":[{\"aaxis\":{\"endlinecolor\":\"#2a3f5f\",\"gridcolor\":\"white\",\"linecolor\":\"white\",\"minorgridcolor\":\"white\",\"startlinecolor\":\"#2a3f5f\"},\"baxis\":{\"endlinecolor\":\"#2a3f5f\",\"gridcolor\":\"white\",\"linecolor\":\"white\",\"minorgridcolor\":\"white\",\"startlinecolor\":\"#2a3f5f\"},\"type\":\"carpet\"}],\"table\":[{\"cells\":{\"fill\":{\"color\":\"#EBF0F8\"},\"line\":{\"color\":\"white\"}},\"header\":{\"fill\":{\"color\":\"#C8D4E3\"},\"line\":{\"color\":\"white\"}},\"type\":\"table\"}],\"barpolar\":[{\"marker\":{\"line\":{\"color\":\"#E5ECF6\",\"width\":0.5},\"pattern\":{\"fillmode\":\"overlay\",\"size\":10,\"solidity\":0.2}},\"type\":\"barpolar\"}],\"pie\":[{\"automargin\":true,\"type\":\"pie\"}]},\"layout\":{\"autotypenumbers\":\"strict\",\"colorway\":[\"#636efa\",\"#EF553B\",\"#00cc96\",\"#ab63fa\",\"#FFA15A\",\"#19d3f3\",\"#FF6692\",\"#B6E880\",\"#FF97FF\",\"#FECB52\"],\"font\":{\"color\":\"#2a3f5f\"},\"hovermode\":\"closest\",\"hoverlabel\":{\"align\":\"left\"},\"paper_bgcolor\":\"white\",\"plot_bgcolor\":\"#E5ECF6\",\"polar\":{\"bgcolor\":\"#E5ECF6\",\"angularaxis\":{\"gridcolor\":\"white\",\"linecolor\":\"white\",\"ticks\":\"\"},\"radialaxis\":{\"gridcolor\":\"white\",\"linecolor\":\"white\",\"ticks\":\"\"}},\"ternary\":{\"bgcolor\":\"#E5ECF6\",\"aaxis\":{\"gridcolor\":\"white\",\"linecolor\":\"white\",\"ticks\":\"\"},\"baxis\":{\"gridcolor\":\"white\",\"linecolor\":\"white\",\"ticks\":\"\"},\"caxis\":{\"gridcolor\":\"white\",\"linecolor\":\"white\",\"ticks\":\"\"}},\"coloraxis\":{\"colorbar\":{\"outlinewidth\":0,\"ticks\":\"\"}},\"colorscale\":{\"sequential\":[[0.0,\"#0d0887\"],[0.1111111111111111,\"#46039f\"],[0.2222222222222222,\"#7201a8\"],[0.3333333333333333,\"#9c179e\"],[0.4444444444444444,\"#bd3786\"],[0.5555555555555556,\"#d8576b\"],[0.6666666666666666,\"#ed7953\"],[0.7777777777777778,\"#fb9f3a\"],[0.8888888888888888,\"#fdca26\"],[1.0,\"#f0f921\"]],\"sequentialminus\":[[0.0,\"#0d0887\"],[0.1111111111111111,\"#46039f\"],[0.2222222222222222,\"#7201a8\"],[0.3333333333333333,\"#9c179e\"],[0.4444444444444444,\"#bd3786\"],[0.5555555555555556,\"#d8576b\"],[0.6666666666666666,\"#ed7953\"],[0.7777777777777778,\"#fb9f3a\"],[0.8888888888888888,\"#fdca26\"],[1.0,\"#f0f921\"]],\"diverging\":[[0,\"#8e0152\"],[0.1,\"#c51b7d\"],[0.2,\"#de77ae\"],[0.3,\"#f1b6da\"],[0.4,\"#fde0ef\"],[0.5,\"#f7f7f7\"],[0.6,\"#e6f5d0\"],[0.7,\"#b8e186\"],[0.8,\"#7fbc41\"],[0.9,\"#4d9221\"],[1,\"#276419\"]]},\"xaxis\":{\"gridcolor\":\"white\",\"linecolor\":\"white\",\"ticks\":\"\",\"title\":{\"standoff\":15},\"zerolinecolor\":\"white\",\"automargin\":true,\"zerolinewidth\":2},\"yaxis\":{\"gridcolor\":\"white\",\"linecolor\":\"white\",\"ticks\":\"\",\"title\":{\"standoff\":15},\"zerolinecolor\":\"white\",\"automargin\":true,\"zerolinewidth\":2},\"scene\":{\"xaxis\":{\"backgroundcolor\":\"#E5ECF6\",\"gridcolor\":\"white\",\"linecolor\":\"white\",\"showbackground\":true,\"ticks\":\"\",\"zerolinecolor\":\"white\",\"gridwidth\":2},\"yaxis\":{\"backgroundcolor\":\"#E5ECF6\",\"gridcolor\":\"white\",\"linecolor\":\"white\",\"showbackground\":true,\"ticks\":\"\",\"zerolinecolor\":\"white\",\"gridwidth\":2},\"zaxis\":{\"backgroundcolor\":\"#E5ECF6\",\"gridcolor\":\"white\",\"linecolor\":\"white\",\"showbackground\":true,\"ticks\":\"\",\"zerolinecolor\":\"white\",\"gridwidth\":2}},\"shapedefaults\":{\"line\":{\"color\":\"#2a3f5f\"}},\"annotationdefaults\":{\"arrowcolor\":\"#2a3f5f\",\"arrowhead\":0,\"arrowwidth\":1},\"geo\":{\"bgcolor\":\"white\",\"landcolor\":\"#E5ECF6\",\"subunitcolor\":\"white\",\"showland\":true,\"showlakes\":true,\"lakecolor\":\"white\"},\"title\":{\"x\":0.05},\"mapbox\":{\"style\":\"light\"}}},\"font\":{\"family\":\"Arial\",\"size\":12,\"color\":\"black\"},\"title\":{\"text\":\"Matriz de Confusão\"}},                        {\"responsive\": true}                    ).then(function(){\n",
              "                            \n",
              "var gd = document.getElementById('d59264be-428c-4630-8ba3-39bedc91dcc1');\n",
              "var x = new MutationObserver(function (mutations, observer) {{\n",
              "        var display = window.getComputedStyle(gd).display;\n",
              "        if (!display || display === 'none') {{\n",
              "            console.log([gd, 'removed!']);\n",
              "            Plotly.purge(gd);\n",
              "            observer.disconnect();\n",
              "        }}\n",
              "}});\n",
              "\n",
              "// Listen for the removal of the full notebook cells\n",
              "var notebookContainer = gd.closest('#notebook-container');\n",
              "if (notebookContainer) {{\n",
              "    x.observe(notebookContainer, {childList: true});\n",
              "}}\n",
              "\n",
              "// Listen for the clearing of the current output cell\n",
              "var outputEl = gd.closest('.output');\n",
              "if (outputEl) {{\n",
              "    x.observe(outputEl, {childList: true});\n",
              "}}\n",
              "\n",
              "                        })                };                            </script>        </div>\n",
              "</body>\n",
              "</html>"
            ]
          },
          "metadata": {}
        }
      ]
    },
    {
      "cell_type": "code",
      "source": [
        "57+19+6"
      ],
      "metadata": {
        "colab": {
          "base_uri": "https://localhost:8080/"
        },
        "id": "17U2S3wRUhLx",
        "outputId": "d756a110-2c73-48fb-a474-0aee0bd51de7"
      },
      "execution_count": null,
      "outputs": [
        {
          "output_type": "execute_result",
          "data": {
            "text/plain": [
              "82"
            ]
          },
          "metadata": {},
          "execution_count": 61
        }
      ]
    },
    {
      "cell_type": "markdown",
      "source": [
        "According to the Confusion Matrix, all predictions were TRUE POSITIVES…\n"
      ],
      "metadata": {
        "id": "2rjYtE0tUnbh"
      }
    },
    {
      "cell_type": "code",
      "source": [
        "# Cálculo do recall (média macro entre as classes)\n",
        "recall = recall_score(y_train, y_pred_train, average='macro')\n",
        "\n",
        "print(\"Recall (média macro):\", recall)"
      ],
      "metadata": {
        "colab": {
          "base_uri": "https://localhost:8080/"
        },
        "id": "s_JRHVPlU0lf",
        "outputId": "cb91145c-1cf3-4e80-b4a6-3da429bd89f6"
      },
      "execution_count": null,
      "outputs": [
        {
          "output_type": "stream",
          "name": "stdout",
          "text": [
            "Recall (média macro): 1.0\n"
          ]
        }
      ]
    },
    {
      "cell_type": "markdown",
      "source": [
        "INSIGHT:\n",
        "\n",
        "Accuracy: 1.0\n",
        "\n",
        "Recall: 1.0\n",
        "\n",
        "Confusion Matrix: 100% correct predictions\n",
        "\n",
        "My opinion: Overfitting."
      ],
      "metadata": {
        "id": "Vvaghg2XVG1K"
      }
    },
    {
      "cell_type": "markdown",
      "metadata": {
        "id": "-WVs2h6ovta6"
      },
      "source": [
        "# 4) Application of the model to the testing data and results evaluation."
      ]
    },
    {
      "cell_type": "code",
      "execution_count": null,
      "metadata": {
        "id": "PXswiQprv5pw",
        "colab": {
          "base_uri": "https://localhost:8080/"
        },
        "outputId": "e05e92e6-bc16-44db-ef11-0603623ea59a"
      },
      "outputs": [
        {
          "output_type": "stream",
          "name": "stdout",
          "text": [
            "Acurácia nos dados de teste: 0.9634146341463414\n"
          ]
        }
      ],
      "source": [
        "from sklearn.naive_bayes import MultinomialNB\n",
        "\n",
        "model = MultinomialNB(alpha=1)  # Laplace smoothing applied\n",
        "model.fit(X_train, y_train)\n",
        "\n",
        "y_pred_test = naive_churn.predict(X_test)\n",
        "\n",
        "accuracy_test = accuracy_score(y_test, y_pred_test)\n",
        "print(\"Acurácia nos dados de teste:\", accuracy_test)"
      ]
    },
    {
      "cell_type": "markdown",
      "source": [
        "I think this is better than simply getting a value of 1! In my view, another value of 1 would have indicated overfitting; here, I can see that the model may be very effective when using the test data."
      ],
      "metadata": {
        "id": "rg1UAU0WV8dU"
      }
    },
    {
      "cell_type": "code",
      "source": [
        "# Recall (macro)\n",
        "from sklearn.metrics import recall_score\n",
        "recall_test = recall_score(y_test, y_pred_test, average='macro')\n",
        "print(\"Recall (macro) nos dados de teste:\", recall_test)\n"
      ],
      "metadata": {
        "colab": {
          "base_uri": "https://localhost:8080/"
        },
        "id": "7y_l3m7rWQLz",
        "outputId": "0146bbf4-2fa1-4a16-a97d-a96554e63dbc"
      },
      "execution_count": null,
      "outputs": [
        {
          "output_type": "stream",
          "name": "stdout",
          "text": [
            "Recall (macro) nos dados de teste: 0.9548319327731093\n"
          ]
        }
      ]
    },
    {
      "cell_type": "code",
      "source": [
        "# CONFUSION MATRIX\n",
        "conf_matrix = confusion_matrix(y_test, y_pred_test)\n",
        "\n",
        "# Defining class names\n",
        "class_names = [0, 1, 2]\n",
        "\n",
        "# Plotting the confusion matrix with Plotly\n",
        "fig = ff.create_annotated_heatmap(\n",
        "    z=conf_matrix,\n",
        "    x=class_names,\n",
        "    y=class_names,\n",
        "    colorscale='Blues',\n",
        "    showscale=True\n",
        ")\n",
        "fig.update_layout(\n",
        "    title='Confusion Matrix',\n",
        "    xaxis_title='Predicted Labels',\n",
        "    yaxis_title='True Labels',\n",
        "    font=dict(\n",
        "        family='Arial',\n",
        "        size=12,\n",
        "        color='black'\n",
        "    )\n",
        ")"
      ],
      "metadata": {
        "colab": {
          "base_uri": "https://localhost:8080/",
          "height": 542
        },
        "id": "CbKz0FkdWXw0",
        "outputId": "dd31d224-99c6-4cde-f9ec-79969848093c"
      },
      "execution_count": null,
      "outputs": [
        {
          "output_type": "display_data",
          "data": {
            "text/html": [
              "<html>\n",
              "<head><meta charset=\"utf-8\" /></head>\n",
              "<body>\n",
              "    <div>            <script src=\"https://cdnjs.cloudflare.com/ajax/libs/mathjax/2.7.5/MathJax.js?config=TeX-AMS-MML_SVG\"></script><script type=\"text/javascript\">if (window.MathJax && window.MathJax.Hub && window.MathJax.Hub.Config) {window.MathJax.Hub.Config({SVG: {font: \"STIX-Web\"}});}</script>                <script type=\"text/javascript\">window.PlotlyConfig = {MathJaxConfig: 'local'};</script>\n",
              "        <script charset=\"utf-8\" src=\"https://cdn.plot.ly/plotly-2.35.2.min.js\"></script>                <div id=\"d86fde9b-62ee-48ae-99a0-4dff0307e0dc\" class=\"plotly-graph-div\" style=\"height:525px; width:100%;\"></div>            <script type=\"text/javascript\">                                    window.PLOTLYENV=window.PLOTLYENV || {};                                    if (document.getElementById(\"d86fde9b-62ee-48ae-99a0-4dff0307e0dc\")) {                    Plotly.newPlot(                        \"d86fde9b-62ee-48ae-99a0-4dff0307e0dc\",                        [{\"colorscale\":[[0.0,\"rgb(247,251,255)\"],[0.125,\"rgb(222,235,247)\"],[0.25,\"rgb(198,219,239)\"],[0.375,\"rgb(158,202,225)\"],[0.5,\"rgb(107,174,214)\"],[0.625,\"rgb(66,146,198)\"],[0.75,\"rgb(33,113,181)\"],[0.875,\"rgb(8,81,156)\"],[1.0,\"rgb(8,48,107)\"]],\"reversescale\":false,\"showscale\":true,\"x\":[0,1,2],\"y\":[0,1,2],\"z\":[[9,0,0],[1,15,1],[0,1,55]],\"type\":\"heatmap\"}],                        {\"annotations\":[{\"font\":{\"color\":\"#000000\"},\"showarrow\":false,\"text\":\"9\",\"x\":0,\"xref\":\"x\",\"y\":0,\"yref\":\"y\"},{\"font\":{\"color\":\"#000000\"},\"showarrow\":false,\"text\":\"0\",\"x\":1,\"xref\":\"x\",\"y\":0,\"yref\":\"y\"},{\"font\":{\"color\":\"#000000\"},\"showarrow\":false,\"text\":\"0\",\"x\":2,\"xref\":\"x\",\"y\":0,\"yref\":\"y\"},{\"font\":{\"color\":\"#000000\"},\"showarrow\":false,\"text\":\"1\",\"x\":0,\"xref\":\"x\",\"y\":1,\"yref\":\"y\"},{\"font\":{\"color\":\"#000000\"},\"showarrow\":false,\"text\":\"15\",\"x\":1,\"xref\":\"x\",\"y\":1,\"yref\":\"y\"},{\"font\":{\"color\":\"#000000\"},\"showarrow\":false,\"text\":\"1\",\"x\":2,\"xref\":\"x\",\"y\":1,\"yref\":\"y\"},{\"font\":{\"color\":\"#000000\"},\"showarrow\":false,\"text\":\"0\",\"x\":0,\"xref\":\"x\",\"y\":2,\"yref\":\"y\"},{\"font\":{\"color\":\"#000000\"},\"showarrow\":false,\"text\":\"1\",\"x\":1,\"xref\":\"x\",\"y\":2,\"yref\":\"y\"},{\"font\":{\"color\":\"#FFFFFF\"},\"showarrow\":false,\"text\":\"55\",\"x\":2,\"xref\":\"x\",\"y\":2,\"yref\":\"y\"}],\"xaxis\":{\"dtick\":1,\"gridcolor\":\"rgb(0, 0, 0)\",\"side\":\"top\",\"ticks\":\"\",\"title\":{\"text\":\"Predicted labels\"}},\"yaxis\":{\"dtick\":1,\"ticks\":\"\",\"ticksuffix\":\"  \",\"title\":{\"text\":\"True labels\"}},\"template\":{\"data\":{\"histogram2dcontour\":[{\"type\":\"histogram2dcontour\",\"colorbar\":{\"outlinewidth\":0,\"ticks\":\"\"},\"colorscale\":[[0.0,\"#0d0887\"],[0.1111111111111111,\"#46039f\"],[0.2222222222222222,\"#7201a8\"],[0.3333333333333333,\"#9c179e\"],[0.4444444444444444,\"#bd3786\"],[0.5555555555555556,\"#d8576b\"],[0.6666666666666666,\"#ed7953\"],[0.7777777777777778,\"#fb9f3a\"],[0.8888888888888888,\"#fdca26\"],[1.0,\"#f0f921\"]]}],\"choropleth\":[{\"type\":\"choropleth\",\"colorbar\":{\"outlinewidth\":0,\"ticks\":\"\"}}],\"histogram2d\":[{\"type\":\"histogram2d\",\"colorbar\":{\"outlinewidth\":0,\"ticks\":\"\"},\"colorscale\":[[0.0,\"#0d0887\"],[0.1111111111111111,\"#46039f\"],[0.2222222222222222,\"#7201a8\"],[0.3333333333333333,\"#9c179e\"],[0.4444444444444444,\"#bd3786\"],[0.5555555555555556,\"#d8576b\"],[0.6666666666666666,\"#ed7953\"],[0.7777777777777778,\"#fb9f3a\"],[0.8888888888888888,\"#fdca26\"],[1.0,\"#f0f921\"]]}],\"heatmap\":[{\"type\":\"heatmap\",\"colorbar\":{\"outlinewidth\":0,\"ticks\":\"\"},\"colorscale\":[[0.0,\"#0d0887\"],[0.1111111111111111,\"#46039f\"],[0.2222222222222222,\"#7201a8\"],[0.3333333333333333,\"#9c179e\"],[0.4444444444444444,\"#bd3786\"],[0.5555555555555556,\"#d8576b\"],[0.6666666666666666,\"#ed7953\"],[0.7777777777777778,\"#fb9f3a\"],[0.8888888888888888,\"#fdca26\"],[1.0,\"#f0f921\"]]}],\"heatmapgl\":[{\"type\":\"heatmapgl\",\"colorbar\":{\"outlinewidth\":0,\"ticks\":\"\"},\"colorscale\":[[0.0,\"#0d0887\"],[0.1111111111111111,\"#46039f\"],[0.2222222222222222,\"#7201a8\"],[0.3333333333333333,\"#9c179e\"],[0.4444444444444444,\"#bd3786\"],[0.5555555555555556,\"#d8576b\"],[0.6666666666666666,\"#ed7953\"],[0.7777777777777778,\"#fb9f3a\"],[0.8888888888888888,\"#fdca26\"],[1.0,\"#f0f921\"]]}],\"contourcarpet\":[{\"type\":\"contourcarpet\",\"colorbar\":{\"outlinewidth\":0,\"ticks\":\"\"}}],\"contour\":[{\"type\":\"contour\",\"colorbar\":{\"outlinewidth\":0,\"ticks\":\"\"},\"colorscale\":[[0.0,\"#0d0887\"],[0.1111111111111111,\"#46039f\"],[0.2222222222222222,\"#7201a8\"],[0.3333333333333333,\"#9c179e\"],[0.4444444444444444,\"#bd3786\"],[0.5555555555555556,\"#d8576b\"],[0.6666666666666666,\"#ed7953\"],[0.7777777777777778,\"#fb9f3a\"],[0.8888888888888888,\"#fdca26\"],[1.0,\"#f0f921\"]]}],\"surface\":[{\"type\":\"surface\",\"colorbar\":{\"outlinewidth\":0,\"ticks\":\"\"},\"colorscale\":[[0.0,\"#0d0887\"],[0.1111111111111111,\"#46039f\"],[0.2222222222222222,\"#7201a8\"],[0.3333333333333333,\"#9c179e\"],[0.4444444444444444,\"#bd3786\"],[0.5555555555555556,\"#d8576b\"],[0.6666666666666666,\"#ed7953\"],[0.7777777777777778,\"#fb9f3a\"],[0.8888888888888888,\"#fdca26\"],[1.0,\"#f0f921\"]]}],\"mesh3d\":[{\"type\":\"mesh3d\",\"colorbar\":{\"outlinewidth\":0,\"ticks\":\"\"}}],\"scatter\":[{\"fillpattern\":{\"fillmode\":\"overlay\",\"size\":10,\"solidity\":0.2},\"type\":\"scatter\"}],\"parcoords\":[{\"type\":\"parcoords\",\"line\":{\"colorbar\":{\"outlinewidth\":0,\"ticks\":\"\"}}}],\"scatterpolargl\":[{\"type\":\"scatterpolargl\",\"marker\":{\"colorbar\":{\"outlinewidth\":0,\"ticks\":\"\"}}}],\"bar\":[{\"error_x\":{\"color\":\"#2a3f5f\"},\"error_y\":{\"color\":\"#2a3f5f\"},\"marker\":{\"line\":{\"color\":\"#E5ECF6\",\"width\":0.5},\"pattern\":{\"fillmode\":\"overlay\",\"size\":10,\"solidity\":0.2}},\"type\":\"bar\"}],\"scattergeo\":[{\"type\":\"scattergeo\",\"marker\":{\"colorbar\":{\"outlinewidth\":0,\"ticks\":\"\"}}}],\"scatterpolar\":[{\"type\":\"scatterpolar\",\"marker\":{\"colorbar\":{\"outlinewidth\":0,\"ticks\":\"\"}}}],\"histogram\":[{\"marker\":{\"pattern\":{\"fillmode\":\"overlay\",\"size\":10,\"solidity\":0.2}},\"type\":\"histogram\"}],\"scattergl\":[{\"type\":\"scattergl\",\"marker\":{\"colorbar\":{\"outlinewidth\":0,\"ticks\":\"\"}}}],\"scatter3d\":[{\"type\":\"scatter3d\",\"line\":{\"colorbar\":{\"outlinewidth\":0,\"ticks\":\"\"}},\"marker\":{\"colorbar\":{\"outlinewidth\":0,\"ticks\":\"\"}}}],\"scattermapbox\":[{\"type\":\"scattermapbox\",\"marker\":{\"colorbar\":{\"outlinewidth\":0,\"ticks\":\"\"}}}],\"scatterternary\":[{\"type\":\"scatterternary\",\"marker\":{\"colorbar\":{\"outlinewidth\":0,\"ticks\":\"\"}}}],\"scattercarpet\":[{\"type\":\"scattercarpet\",\"marker\":{\"colorbar\":{\"outlinewidth\":0,\"ticks\":\"\"}}}],\"carpet\":[{\"aaxis\":{\"endlinecolor\":\"#2a3f5f\",\"gridcolor\":\"white\",\"linecolor\":\"white\",\"minorgridcolor\":\"white\",\"startlinecolor\":\"#2a3f5f\"},\"baxis\":{\"endlinecolor\":\"#2a3f5f\",\"gridcolor\":\"white\",\"linecolor\":\"white\",\"minorgridcolor\":\"white\",\"startlinecolor\":\"#2a3f5f\"},\"type\":\"carpet\"}],\"table\":[{\"cells\":{\"fill\":{\"color\":\"#EBF0F8\"},\"line\":{\"color\":\"white\"}},\"header\":{\"fill\":{\"color\":\"#C8D4E3\"},\"line\":{\"color\":\"white\"}},\"type\":\"table\"}],\"barpolar\":[{\"marker\":{\"line\":{\"color\":\"#E5ECF6\",\"width\":0.5},\"pattern\":{\"fillmode\":\"overlay\",\"size\":10,\"solidity\":0.2}},\"type\":\"barpolar\"}],\"pie\":[{\"automargin\":true,\"type\":\"pie\"}]},\"layout\":{\"autotypenumbers\":\"strict\",\"colorway\":[\"#636efa\",\"#EF553B\",\"#00cc96\",\"#ab63fa\",\"#FFA15A\",\"#19d3f3\",\"#FF6692\",\"#B6E880\",\"#FF97FF\",\"#FECB52\"],\"font\":{\"color\":\"#2a3f5f\"},\"hovermode\":\"closest\",\"hoverlabel\":{\"align\":\"left\"},\"paper_bgcolor\":\"white\",\"plot_bgcolor\":\"#E5ECF6\",\"polar\":{\"bgcolor\":\"#E5ECF6\",\"angularaxis\":{\"gridcolor\":\"white\",\"linecolor\":\"white\",\"ticks\":\"\"},\"radialaxis\":{\"gridcolor\":\"white\",\"linecolor\":\"white\",\"ticks\":\"\"}},\"ternary\":{\"bgcolor\":\"#E5ECF6\",\"aaxis\":{\"gridcolor\":\"white\",\"linecolor\":\"white\",\"ticks\":\"\"},\"baxis\":{\"gridcolor\":\"white\",\"linecolor\":\"white\",\"ticks\":\"\"},\"caxis\":{\"gridcolor\":\"white\",\"linecolor\":\"white\",\"ticks\":\"\"}},\"coloraxis\":{\"colorbar\":{\"outlinewidth\":0,\"ticks\":\"\"}},\"colorscale\":{\"sequential\":[[0.0,\"#0d0887\"],[0.1111111111111111,\"#46039f\"],[0.2222222222222222,\"#7201a8\"],[0.3333333333333333,\"#9c179e\"],[0.4444444444444444,\"#bd3786\"],[0.5555555555555556,\"#d8576b\"],[0.6666666666666666,\"#ed7953\"],[0.7777777777777778,\"#fb9f3a\"],[0.8888888888888888,\"#fdca26\"],[1.0,\"#f0f921\"]],\"sequentialminus\":[[0.0,\"#0d0887\"],[0.1111111111111111,\"#46039f\"],[0.2222222222222222,\"#7201a8\"],[0.3333333333333333,\"#9c179e\"],[0.4444444444444444,\"#bd3786\"],[0.5555555555555556,\"#d8576b\"],[0.6666666666666666,\"#ed7953\"],[0.7777777777777778,\"#fb9f3a\"],[0.8888888888888888,\"#fdca26\"],[1.0,\"#f0f921\"]],\"diverging\":[[0,\"#8e0152\"],[0.1,\"#c51b7d\"],[0.2,\"#de77ae\"],[0.3,\"#f1b6da\"],[0.4,\"#fde0ef\"],[0.5,\"#f7f7f7\"],[0.6,\"#e6f5d0\"],[0.7,\"#b8e186\"],[0.8,\"#7fbc41\"],[0.9,\"#4d9221\"],[1,\"#276419\"]]},\"xaxis\":{\"gridcolor\":\"white\",\"linecolor\":\"white\",\"ticks\":\"\",\"title\":{\"standoff\":15},\"zerolinecolor\":\"white\",\"automargin\":true,\"zerolinewidth\":2},\"yaxis\":{\"gridcolor\":\"white\",\"linecolor\":\"white\",\"ticks\":\"\",\"title\":{\"standoff\":15},\"zerolinecolor\":\"white\",\"automargin\":true,\"zerolinewidth\":2},\"scene\":{\"xaxis\":{\"backgroundcolor\":\"#E5ECF6\",\"gridcolor\":\"white\",\"linecolor\":\"white\",\"showbackground\":true,\"ticks\":\"\",\"zerolinecolor\":\"white\",\"gridwidth\":2},\"yaxis\":{\"backgroundcolor\":\"#E5ECF6\",\"gridcolor\":\"white\",\"linecolor\":\"white\",\"showbackground\":true,\"ticks\":\"\",\"zerolinecolor\":\"white\",\"gridwidth\":2},\"zaxis\":{\"backgroundcolor\":\"#E5ECF6\",\"gridcolor\":\"white\",\"linecolor\":\"white\",\"showbackground\":true,\"ticks\":\"\",\"zerolinecolor\":\"white\",\"gridwidth\":2}},\"shapedefaults\":{\"line\":{\"color\":\"#2a3f5f\"}},\"annotationdefaults\":{\"arrowcolor\":\"#2a3f5f\",\"arrowhead\":0,\"arrowwidth\":1},\"geo\":{\"bgcolor\":\"white\",\"landcolor\":\"#E5ECF6\",\"subunitcolor\":\"white\",\"showland\":true,\"showlakes\":true,\"lakecolor\":\"white\"},\"title\":{\"x\":0.05},\"mapbox\":{\"style\":\"light\"}}},\"font\":{\"family\":\"Arial\",\"size\":12,\"color\":\"black\"},\"title\":{\"text\":\"Matriz de Confusão\"}},                        {\"responsive\": true}                    ).then(function(){\n",
              "                            \n",
              "var gd = document.getElementById('d86fde9b-62ee-48ae-99a0-4dff0307e0dc');\n",
              "var x = new MutationObserver(function (mutations, observer) {{\n",
              "        var display = window.getComputedStyle(gd).display;\n",
              "        if (!display || display === 'none') {{\n",
              "            console.log([gd, 'removed!']);\n",
              "            Plotly.purge(gd);\n",
              "            observer.disconnect();\n",
              "        }}\n",
              "}});\n",
              "\n",
              "// Listen for the removal of the full notebook cells\n",
              "var notebookContainer = gd.closest('#notebook-container');\n",
              "if (notebookContainer) {{\n",
              "    x.observe(notebookContainer, {childList: true});\n",
              "}}\n",
              "\n",
              "// Listen for the clearing of the current output cell\n",
              "var outputEl = gd.closest('.output');\n",
              "if (outputEl) {{\n",
              "    x.observe(outputEl, {childList: true});\n",
              "}}\n",
              "\n",
              "                        })                };                            </script>        </div>\n",
              "</body>\n",
              "</html>"
            ]
          },
          "metadata": {}
        }
      ]
    },
    {
      "cell_type": "markdown",
      "metadata": {
        "id": "fKc3id7ZwL7V"
      },
      "source": [
        "# 5) FINAL RESULTS WITH NAIVE BAYES:"
      ]
    },
    {
      "cell_type": "markdown",
      "source": [
        "In this project, the dataset was already preprocessed (as a result of applying SMOTE to balance the data in the CHURN column), and then the Naive Bayes algorithm was applied. As the method itself suggests, it is a probabilistic generalization, so even with Laplace smoothing, it remains a very general model.\n",
        "\n",
        "The accuracy = 1 on the training set indicated an extremely high correct prediction rate, which initially suggested overfitting. The confusion matrix and recall = 1 further reinforced this impression.\n",
        "\n",
        "However, when evaluated on the test data, the model achieved accuracy = 0.96, recall = 0.95, and the confusion matrix showed a few—but very few—misclassifications. This demonstrated another perspective: the model is likely well-trained and highly efficient in prediction."
      ],
      "metadata": {
        "id": "UWmxircVWrdo"
      }
    }
  ],
  "metadata": {
    "colab": {
      "provenance": []
    },
    "kernelspec": {
      "display_name": "Python 3 (ipykernel)",
      "language": "python",
      "name": "python3"
    },
    "language_info": {
      "codemirror_mode": {
        "name": "ipython",
        "version": 3
      },
      "file_extension": ".py",
      "mimetype": "text/x-python",
      "name": "python",
      "nbconvert_exporter": "python",
      "pygments_lexer": "ipython3",
      "version": "3.11.7"
    }
  },
  "nbformat": 4,
  "nbformat_minor": 0
}